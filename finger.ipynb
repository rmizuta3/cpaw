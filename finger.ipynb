{
 "cells": [
  {
   "cell_type": "code",
   "execution_count": 1,
   "metadata": {},
   "outputs": [],
   "source": [
    "import pandas as pd\n",
    "import numpy as np\n",
    "import matplotlib.pyplot as plt\n",
    "import os\n",
    "pd.set_option(\"display.max_rows\", 101)\n",
    "pd.set_option(\"display.max_columns\", 101)\n",
    "%matplotlib inline"
   ]
  },
  {
   "cell_type": "code",
   "execution_count": 30,
   "metadata": {},
   "outputs": [],
   "source": [
    "import cv2\n",
    "DIR1 = 'train/one/'\n",
    "DIR2  = 'train/two/'\n",
    "DIR3 = 'train/three/'\n",
    "#画像の読み込み\n",
    "X=[]\n",
    "y=[]\n",
    "for filename in os.listdir(DIR1):\n",
    "    img = cv2.imread(\"train/one/{}\".format(filename),cv2.IMREAD_GRAYSCALE)\n",
    "    img=cv2.resize(img, (128, 128), interpolation=cv2.INTER_AREA)\n",
    "    X.append(img)\n",
    "    y.append(0)\n",
    "\n",
    "for filename in os.listdir(DIR2):\n",
    "    img = cv2.imread(\"train/two/{}\".format(filename),cv2.IMREAD_GRAYSCALE)\n",
    "    img=cv2.resize(img, (128, 128), interpolation=cv2.INTER_AREA)\n",
    "    X.append(img)\n",
    "    y.append(1)\n",
    "    \n",
    "for filename in os.listdir(DIR3):\n",
    "    img = cv2.imread(\"train/three/{}\".format(filename),cv2.IMREAD_GRAYSCALE)\n",
    "    #img=img.resize((128,128))\n",
    "    img=cv2.resize(img, (128, 128), interpolation=cv2.INTER_AREA)\n",
    "    X.append(img)\n",
    "    y.append(2)\n",
    "    \n",
    "X = np.array(X)/255\n",
    "X=X.astype(\"float32\")\n",
    "X = np.expand_dims(np.array(X),axis=3)   "
   ]
  },
  {
   "cell_type": "code",
   "execution_count": 31,
   "metadata": {},
   "outputs": [
    {
     "data": {
      "text/plain": [
       "(3483, 128, 128, 1)"
      ]
     },
     "execution_count": 31,
     "metadata": {},
     "output_type": "execute_result"
    }
   ],
   "source": [
    "X.shape"
   ]
  },
  {
   "cell_type": "code",
   "execution_count": 35,
   "metadata": {},
   "outputs": [],
   "source": [
    "import keras\n",
    "from keras.datasets import cifar10\n",
    "from keras.preprocessing.image import ImageDataGenerator\n",
    "from keras.models import Sequential\n",
    "from keras.layers import Dense, Dropout, Activation, Flatten\n",
    "from keras.layers import Conv2D, MaxPooling2D\n",
    "from keras import optimizers"
   ]
  },
  {
   "cell_type": "code",
   "execution_count": 36,
   "metadata": {},
   "outputs": [],
   "source": [
    "batch_size = 32\n",
    "num_classes = 3\n",
    "epochs = 100\n",
    "data_augmentation = True\n",
    "num_predictions = 20\n",
    "\n",
    "# The data, split between train and test sets:\n",
    "\n",
    "# Convert class vectors to binary class matrices.\n",
    "\n",
    "#y_test = keras.utils.to_categorical(y_test, num_classes)\n",
    "\n",
    "model = Sequential()\n",
    "model.add(Conv2D(32, (3, 3), padding='same',\n",
    "                 input_shape=X.shape[1:]))\n",
    "model.add(Activation('relu'))\n",
    "model.add(Conv2D(32, (3, 3)))\n",
    "model.add(Activation('relu'))\n",
    "model.add(MaxPooling2D(pool_size=(2, 2)))\n",
    "model.add(Dropout(0.25))\n",
    "\n",
    "model.add(Conv2D(64, (3, 3), padding='same'))\n",
    "model.add(Activation('relu'))\n",
    "model.add(Conv2D(64, (3, 3)))\n",
    "model.add(Activation('relu'))\n",
    "model.add(MaxPooling2D(pool_size=(2, 2)))\n",
    "model.add(Dropout(0.25))\n",
    "\n",
    "model.add(Flatten())\n",
    "model.add(Dense(512))\n",
    "model.add(Activation('relu'))\n",
    "model.add(Dropout(0.5))\n",
    "model.add(Dense(num_classes))\n",
    "model.add(Activation('softmax'))\n",
    "\n",
    "# initiate RMSprop optimizer\n",
    "#opt = keras.optimizers.rmsprop(lr=0.0001, decay=1e-6)\n",
    "adam=optimizers.Adam()\n",
    "# Let's train the model using RMSprop\n",
    "model.compile(loss='categorical_crossentropy',\n",
    "              optimizer=adam,\n",
    "              metrics=['accuracy'])\n",
    "\n",
    "#x_train = x_train.astype('float32')\n",
    "#x_test = x_test.astype('float32')\n",
    "#x_train /= 255\n",
    "#x_test /= 255\n"
   ]
  },
  {
   "cell_type": "code",
   "execution_count": 85,
   "metadata": {},
   "outputs": [],
   "source": [
    "y_train = keras.utils.to_categorical(y, 3)\n",
    "X_train, X_test, y_train, y_test = train_test_split(X, y_train, stratify=y, test_size=0.2, random_state=942)"
   ]
  },
  {
   "cell_type": "code",
   "execution_count": 42,
   "metadata": {},
   "outputs": [
    {
     "name": "stdout",
     "output_type": "stream",
     "text": [
      "Train on 2786 samples, validate on 697 samples\n",
      "Epoch 1/10\n",
      "2786/2786 [==============================] - 82s 30ms/step - loss: 1.0513 - acc: 0.4910 - val_loss: 0.7870 - val_acc: 0.6184\n",
      "Epoch 2/10\n",
      "2786/2786 [==============================] - 81s 29ms/step - loss: 0.7050 - acc: 0.6809 - val_loss: 0.5616 - val_acc: 0.7547\n",
      "Epoch 3/10\n",
      "2786/2786 [==============================] - 77s 28ms/step - loss: 0.5024 - acc: 0.7879 - val_loss: 0.3269 - val_acc: 0.8852\n",
      "Epoch 4/10\n",
      "2786/2786 [==============================] - 79s 28ms/step - loss: 0.3286 - acc: 0.8711 - val_loss: 0.2274 - val_acc: 0.9182\n",
      "Epoch 5/10\n",
      "2786/2786 [==============================] - 80s 29ms/step - loss: 0.2113 - acc: 0.9210 - val_loss: 0.1780 - val_acc: 0.9326\n",
      "Epoch 6/10\n",
      "2786/2786 [==============================] - 81s 29ms/step - loss: 0.1766 - acc: 0.9368 - val_loss: 0.1622 - val_acc: 0.9484\n",
      "Epoch 7/10\n",
      "2786/2786 [==============================] - 79s 28ms/step - loss: 0.1648 - acc: 0.9343 - val_loss: 0.1361 - val_acc: 0.9555\n",
      "Epoch 8/10\n",
      "2786/2786 [==============================] - 81s 29ms/step - loss: 0.0927 - acc: 0.9677 - val_loss: 0.1546 - val_acc: 0.9498\n",
      "Epoch 9/10\n",
      "2786/2786 [==============================] - 78s 28ms/step - loss: 0.0906 - acc: 0.9659 - val_loss: 0.1270 - val_acc: 0.9555\n",
      "Epoch 10/10\n",
      "2786/2786 [==============================] - 81s 29ms/step - loss: 0.0802 - acc: 0.9702 - val_loss: 0.1187 - val_acc: 0.9684\n"
     ]
    },
    {
     "data": {
      "text/plain": [
       "<keras.callbacks.History at 0x7f63e495b668>"
      ]
     },
     "execution_count": 42,
     "metadata": {},
     "output_type": "execute_result"
    }
   ],
   "source": [
    "model.fit(X_train, y_train,\n",
    "              batch_size=batch_size,\n",
    "              epochs=10,\n",
    "              validation_data=(X_test, y_test),\n",
    "              shuffle=True)"
   ]
  },
  {
   "cell_type": "code",
   "execution_count": 43,
   "metadata": {},
   "outputs": [],
   "source": [
    "model.save(\"model1.h5\")"
   ]
  },
  {
   "cell_type": "code",
   "execution_count": 93,
   "metadata": {},
   "outputs": [],
   "source": [
    "DIR3 = 'test'\n",
    "#画像の読み込み\n",
    "X_test=[]\n",
    "for filename in os.listdir(DIR3):\n",
    "    img=cv2.imread(\"test/{}\".format(filename),cv2.IMREAD_GRAYSCALE)\n",
    "    #img=img.resize((128,128))\n",
    "    img=cv2.resize(img, (128, 128), interpolation=cv2.INTER_AREA)\n",
    "    X_test.append(img)\n",
    "X_test = np.array(X_test)/255\n",
    "X_test=X_test.astype(\"float32\")\n",
    "X_test = np.expand_dims(np.array(X_test),axis=3)   "
   ]
  },
  {
   "cell_type": "code",
   "execution_count": 46,
   "metadata": {},
   "outputs": [
    {
     "data": {
      "text/plain": [
       "(871, 128, 128, 1)"
      ]
     },
     "execution_count": 46,
     "metadata": {},
     "output_type": "execute_result"
    }
   ],
   "source": [
    "X_test.shape"
   ]
  },
  {
   "cell_type": "code",
   "execution_count": 94,
   "metadata": {},
   "outputs": [],
   "source": [
    "preds=model.predict(X_test)\n",
    "#preds_flip = model.predict(np.array([np.fliplr(x) for x in X_test]))\n",
    "#tmp=np.array([np.fliplr(x) for x in preds_flip])\n",
    "#preds=(preds+preds_flip)/2"
   ]
  },
  {
   "cell_type": "code",
   "execution_count": 95,
   "metadata": {},
   "outputs": [],
   "source": [
    "preds2=np.argmax(preds,axis=1)"
   ]
  },
  {
   "cell_type": "code",
   "execution_count": 96,
   "metadata": {},
   "outputs": [],
   "source": [
    "d={0:'one',1:\"two\",2:\"three\"}"
   ]
  },
  {
   "cell_type": "code",
   "execution_count": 97,
   "metadata": {},
   "outputs": [],
   "source": [
    "preds3=[d[i] for i in preds2]"
   ]
  },
  {
   "cell_type": "code",
   "execution_count": 99,
   "metadata": {},
   "outputs": [],
   "source": [
    "submit=pd.DataFrame()\n",
    "submit[\"id\"]=os.listdir(DIR3)\n",
    "#submit[\"id\"]=dir3\n",
    "submit[\"class\"]=preds3"
   ]
  },
  {
   "cell_type": "code",
   "execution_count": 100,
   "metadata": {},
   "outputs": [],
   "source": [
    "submit.to_csv(\"fin1v4.csv\",index=False)"
   ]
  }
 ],
 "metadata": {
  "kernelspec": {
   "display_name": "Python 3",
   "language": "python",
   "name": "python3"
  },
  "language_info": {
   "codemirror_mode": {
    "name": "ipython",
    "version": 3
   },
   "file_extension": ".py",
   "mimetype": "text/x-python",
   "name": "python",
   "nbconvert_exporter": "python",
   "pygments_lexer": "ipython3",
   "version": "3.6.5"
  }
 },
 "nbformat": 4,
 "nbformat_minor": 2
}
