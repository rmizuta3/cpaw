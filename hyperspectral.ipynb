{
 "cells": [
  {
   "cell_type": "code",
   "execution_count": 1,
   "metadata": {},
   "outputs": [],
   "source": [
    "import pandas as pd\n",
    "import numpy as np\n",
    "import matplotlib.pyplot as plt\n",
    "import os\n",
    "pd.set_option(\"display.max_rows\", 101)\n",
    "pd.set_option(\"display.max_columns\", 101)\n",
    "%matplotlib inline"
   ]
  },
  {
   "cell_type": "code",
   "execution_count": 2,
   "metadata": {},
   "outputs": [],
   "source": [
    "train=pd.read_csv(\"train/train_data.csv\")\n",
    "label=pd.read_csv(\"train/train_label.csv\")\n",
    "test=pd.read_csv(\"test/test_data.csv\")"
   ]
  },
  {
   "cell_type": "code",
   "execution_count": 19,
   "metadata": {},
   "outputs": [],
   "source": [
    "#from sklearn.decomposition import PCA\n",
    "#pca = PCA()\n",
    "#pca.fit(train.iloc[:,1:])\n",
    "# 分析結果を元にデータセットを主成分に変換する\n",
    "#transformed = pca.fit_transform(train.iloc[:,1:])"
   ]
  },
  {
   "cell_type": "code",
   "execution_count": 50,
   "metadata": {},
   "outputs": [],
   "source": [
    "#from sklearn.feature_selection import SelectKBest, f_regression,chi2\n",
    "#selector = SelectKBest(score_func=chi2, k=100) \n",
    "#selector.fit(train.iloc[:,1:], label2)\n",
    "#X_new = SelectKBest(chi2, k=5).fit_transform(train.iloc[:,1:], label2)"
   ]
  },
  {
   "cell_type": "code",
   "execution_count": 83,
   "metadata": {},
   "outputs": [],
   "source": [
    "def makefeature(df):\n",
    "    tmp=df.iloc[:,1:].copy()\n",
    "    df=pd.DataFrame()\n",
    "    df[\"max\"]=tmp.max(axis=1)\n",
    "    df[\"mean\"]=tmp.mean(axis=1)\n",
    "    df[\"median\"]=tmp.median(axis=1)\n",
    "    df[\"min\"]=tmp.min(axis=1)\n",
    "    df[\"std\"]=tmp.std(axis=1)\n",
    "    return df"
   ]
  },
  {
   "cell_type": "code",
   "execution_count": 84,
   "metadata": {},
   "outputs": [],
   "source": [
    "tmp2=makefeature(train)\n",
    "train3=pd.concat([train,pd.DataFrame(tmp2)],axis=1)\n",
    "tmp4=makefeature(test)\n",
    "test3=pd.concat([test,pd.DataFrame(tmp4)],axis=1)"
   ]
  },
  {
   "cell_type": "code",
   "execution_count": 99,
   "metadata": {},
   "outputs": [
    {
     "data": {
      "text/plain": [
       "(5124, 206)"
      ]
     },
     "execution_count": 99,
     "metadata": {},
     "output_type": "execute_result"
    }
   ],
   "source": [
    "train3.shape"
   ]
  },
  {
   "cell_type": "code",
   "execution_count": 98,
   "metadata": {},
   "outputs": [
    {
     "data": {
      "text/plain": [
       "(5125, 206)"
      ]
     },
     "execution_count": 98,
     "metadata": {},
     "output_type": "execute_result"
    }
   ],
   "source": [
    "test3.shape"
   ]
  },
  {
   "cell_type": "code",
   "execution_count": 4,
   "metadata": {},
   "outputs": [],
   "source": [
    "from sklearn import preprocessing\n",
    "le = preprocessing.LabelEncoder()\n",
    "le.fit(label[\"class\"].unique())\n",
    "label2=le.transform(label[\"class\"]) "
   ]
  },
  {
   "cell_type": "code",
   "execution_count": 18,
   "metadata": {},
   "outputs": [
    {
     "name": "stdout",
     "output_type": "stream",
     "text": [
      "[Fold 1/5]\n",
      "Training until validation scores don't improve for 50 rounds.\n",
      "[50]\tvalid_0's multi_error: 0.173489\n",
      "[100]\tvalid_0's multi_error: 0.155945\n",
      "[150]\tvalid_0's multi_error: 0.140351\n",
      "[200]\tvalid_0's multi_error: 0.136452\n",
      "[250]\tvalid_0's multi_error: 0.128655\n",
      "[300]\tvalid_0's multi_error: 0.126706\n",
      "Early stopping, best iteration is:\n",
      "[265]\tvalid_0's multi_error: 0.124756\n",
      "[Fold 2/5]\n",
      "Training until validation scores don't improve for 50 rounds.\n",
      "[50]\tvalid_0's multi_error: 0.132554\n",
      "[100]\tvalid_0's multi_error: 0.107212\n",
      "[150]\tvalid_0's multi_error: 0.0974659\n",
      "[200]\tvalid_0's multi_error: 0.0916179\n",
      "[250]\tvalid_0's multi_error: 0.08577\n",
      "[300]\tvalid_0's multi_error: 0.0818713\n",
      "[350]\tvalid_0's multi_error: 0.079922\n",
      "[400]\tvalid_0's multi_error: 0.0779727\n",
      "Early stopping, best iteration is:\n",
      "[358]\tvalid_0's multi_error: 0.0760234\n",
      "[Fold 3/5]\n",
      "Training until validation scores don't improve for 50 rounds.\n",
      "[50]\tvalid_0's multi_error: 0.138402\n",
      "[100]\tvalid_0's multi_error: 0.116959\n",
      "[150]\tvalid_0's multi_error: 0.105263\n",
      "Early stopping, best iteration is:\n",
      "[123]\tvalid_0's multi_error: 0.103314\n",
      "[Fold 4/5]\n",
      "Training until validation scores don't improve for 50 rounds.\n",
      "[50]\tvalid_0's multi_error: 0.116959\n",
      "[100]\tvalid_0's multi_error: 0.105263\n",
      "Early stopping, best iteration is:\n",
      "[82]\tvalid_0's multi_error: 0.0974659\n",
      "[Fold 5/5]\n",
      "Training until validation scores don't improve for 50 rounds.\n",
      "[50]\tvalid_0's multi_error: 0.169591\n",
      "[100]\tvalid_0's multi_error: 0.148148\n",
      "Early stopping, best iteration is:\n",
      "[95]\tvalid_0's multi_error: 0.14425\n"
     ]
    }
   ],
   "source": [
    "import lightgbm as lgb\n",
    "from sklearn.model_selection import StratifiedShuffleSplit\n",
    "import copy\n",
    "\n",
    "params={}\n",
    "\n",
    "params={\n",
    "    'objective': 'multiclass',\n",
    "    # クラス数は 3\n",
    "    'num_class': 16,\n",
    "    'random_state' : 1,\n",
    "    #\"objective\": \"rmse\",\n",
    "    #\"eval_metric\": \"rmse\",\n",
    "    #\"objective\": \"binary\",\n",
    "    \"metric\": \"multi_error\",\n",
    "    #'num_leaves': 50,\n",
    "    }\n",
    "\n",
    "df_train=train.drop(\"id\",axis=1).copy()\n",
    "df_label=label2\n",
    "\n",
    "p_test=0\n",
    "p_eval=0\n",
    "kfold = 5\n",
    "score=0\n",
    "#sss = StratifiedShuffleSplit(n_splits=kfold, test_size=0.1, random_state=9817)\n",
    "sss = StratifiedShuffleSplit(n_splits=kfold, random_state=9817)\n",
    "for i, (train_index, test_index) in enumerate(sss.split(df_train, df_label)):\n",
    "    print('[Fold %d/%d]' % (i + 1, kfold))\n",
    "    \n",
    "    X_train, X_valid = df_train.iloc[train_index,:], df_train.iloc[test_index,:]\n",
    "    y_train, y_valid = df_label[train_index], df_label[test_index]\n",
    "    dtrain = lgb.Dataset(X_train, label=y_train)\n",
    "    dvalid = lgb.Dataset(X_valid, label=y_valid)\n",
    "    \n",
    "    watchlist = [(dtrain, 'train'),(dvalid, 'eval')]\n",
    "    #bst = lgb.train(params, dtrain, num_boost_round=1000,valid_sets=[dtrain, dvalid],early_stopping_rounds=50,verbose_eval=10)\n",
    "    bst = lgb.train(params, dtrain, num_boost_round=1000,valid_sets=[dvalid],early_stopping_rounds=50,verbose_eval=50)\n",
    "    p_test+=bst.predict(test3.drop(\"id\",axis=1))\n",
    "    #d_test = pred_df\n",
    "    #p_test+=bst.predict(d_test)\n",
    "    score+=bst.best_score[\"valid_0\"]['multi_error']\n",
    "    "
   ]
  },
  {
   "cell_type": "code",
   "execution_count": 121,
   "metadata": {},
   "outputs": [],
   "source": [
    "p_test=p_test/5\n",
    "preds2=np.argmax(p_test,axis=1)"
   ]
  },
  {
   "cell_type": "code",
   "execution_count": 122,
   "metadata": {},
   "outputs": [
    {
     "name": "stderr",
     "output_type": "stream",
     "text": [
      "/home/ubuntu/anaconda3/lib/python3.6/site-packages/sklearn/preprocessing/label.py:151: DeprecationWarning: The truth value of an empty array is ambiguous. Returning False, but in future this will result in an error. Use `array.size > 0` to check that an array is not empty.\n",
      "  if diff:\n"
     ]
    }
   ],
   "source": [
    "#yを文字に戻す\n",
    "result=le.inverse_transform(preds2)"
   ]
  },
  {
   "cell_type": "code",
   "execution_count": 124,
   "metadata": {},
   "outputs": [],
   "source": [
    "submit=pd.DataFrame()\n",
    "submit[\"id\"]=test[\"id\"]\n",
    "submit[\"class\"]=result"
   ]
  },
  {
   "cell_type": "code",
   "execution_count": 125,
   "metadata": {},
   "outputs": [],
   "source": [
    "submit.to_csv(\"spe6.csv\",index=False)"
   ]
  }
 ],
 "metadata": {
  "kernelspec": {
   "display_name": "Python 3",
   "language": "python",
   "name": "python3"
  },
  "language_info": {
   "codemirror_mode": {
    "name": "ipython",
    "version": 3
   },
   "file_extension": ".py",
   "mimetype": "text/x-python",
   "name": "python",
   "nbconvert_exporter": "python",
   "pygments_lexer": "ipython3",
   "version": "3.6.5"
  }
 },
 "nbformat": 4,
 "nbformat_minor": 2
}
